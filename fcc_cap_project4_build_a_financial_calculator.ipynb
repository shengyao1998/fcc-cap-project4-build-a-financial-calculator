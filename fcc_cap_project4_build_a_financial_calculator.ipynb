{
  "nbformat": 4,
  "nbformat_minor": 0,
  "metadata": {
    "colab": {
      "provenance": [],
      "collapsed_sections": [
        "szp5flp1fA8-",
        "KDloBuvnHQTS",
        "r1AM-AcqkbyF",
        "8wXbGsoYkm60",
        "tBxuJtHck2Oo",
        "s3z_zaNWlet8",
        "yoavB8H_ljVn",
        "MlRfYVIylkQf",
        "NGH1FcttllvS",
        "Sx0kwIdalmmY",
        "S-DVSzwDvKvE",
        "H6LTAPYplxvi",
        "iaEBltZXln-Q",
        "l5GwlqRdlpEu",
        "U_7bv7aG4UJe",
        "B7DOz9nh4XAb",
        "cqvLtj7t4VMN",
        "GsLj1NhZl1ya",
        "d7Lc9KfMYU8Y",
        "VkD30ljxlyw9",
        "bJzxcKIfz8Qt",
        "8iWUAktvPLYp",
        "rzaQj8dEOfzb",
        "UptjjiCOTSS2",
        "CRa5i8s3UCuL"
      ],
      "toc_visible": true,
      "include_colab_link": true
    },
    "kernelspec": {
      "name": "python3",
      "display_name": "Python 3"
    },
    "language_info": {
      "name": "python"
    },
    "widgets": {
      "application/vnd.jupyter.widget-state+json": {
        "b1c429b869d142d1ae447343162f4d7f": {
          "model_module": "@jupyter-widgets/controls",
          "model_name": "VBoxModel",
          "model_module_version": "1.5.0",
          "state": {
            "_dom_classes": [
              "widget-interact"
            ],
            "_model_module": "@jupyter-widgets/controls",
            "_model_module_version": "1.5.0",
            "_model_name": "VBoxModel",
            "_view_count": null,
            "_view_module": "@jupyter-widgets/controls",
            "_view_module_version": "1.5.0",
            "_view_name": "VBoxView",
            "box_style": "",
            "children": [
              "IPY_MODEL_f73f0c1a477e44a8836dd37430a3d072",
              "IPY_MODEL_bd5ac6ffd5fd4ee8a09c08db05698031",
              "IPY_MODEL_11e041b01ac7427985c215d373efb9f7",
              "IPY_MODEL_486948ec472e4038bf16056ae9301331"
            ],
            "layout": "IPY_MODEL_ae78ca28ea64415192e27f75c6bbdc87"
          }
        },
        "f73f0c1a477e44a8836dd37430a3d072": {
          "model_module": "@jupyter-widgets/controls",
          "model_name": "IntSliderModel",
          "model_module_version": "1.5.0",
          "state": {
            "_dom_classes": [],
            "_model_module": "@jupyter-widgets/controls",
            "_model_module_version": "1.5.0",
            "_model_name": "IntSliderModel",
            "_view_count": null,
            "_view_module": "@jupyter-widgets/controls",
            "_view_module_version": "1.5.0",
            "_view_name": "IntSliderView",
            "continuous_update": true,
            "description": "a",
            "description_tooltip": null,
            "disabled": false,
            "layout": "IPY_MODEL_ff9559ec8f714447ada288fc84beca84",
            "max": 9,
            "min": -9,
            "orientation": "horizontal",
            "readout": true,
            "readout_format": "d",
            "step": 1,
            "style": "IPY_MODEL_58141df4c62747c4af7934fdb02a9d7a",
            "value": 0
          }
        },
        "bd5ac6ffd5fd4ee8a09c08db05698031": {
          "model_module": "@jupyter-widgets/controls",
          "model_name": "IntSliderModel",
          "model_module_version": "1.5.0",
          "state": {
            "_dom_classes": [],
            "_model_module": "@jupyter-widgets/controls",
            "_model_module_version": "1.5.0",
            "_model_name": "IntSliderModel",
            "_view_count": null,
            "_view_module": "@jupyter-widgets/controls",
            "_view_module_version": "1.5.0",
            "_view_name": "IntSliderView",
            "continuous_update": true,
            "description": "b",
            "description_tooltip": null,
            "disabled": false,
            "layout": "IPY_MODEL_dcf4bbea4d7a44c5bfda46992428de66",
            "max": 9,
            "min": -9,
            "orientation": "horizontal",
            "readout": true,
            "readout_format": "d",
            "step": 1,
            "style": "IPY_MODEL_6a3beb1e23aa4b68b7c9c3355d44e35e",
            "value": 2
          }
        },
        "11e041b01ac7427985c215d373efb9f7": {
          "model_module": "@jupyter-widgets/controls",
          "model_name": "IntSliderModel",
          "model_module_version": "1.5.0",
          "state": {
            "_dom_classes": [],
            "_model_module": "@jupyter-widgets/controls",
            "_model_module_version": "1.5.0",
            "_model_name": "IntSliderModel",
            "_view_count": null,
            "_view_module": "@jupyter-widgets/controls",
            "_view_module_version": "1.5.0",
            "_view_name": "IntSliderView",
            "continuous_update": true,
            "description": "c",
            "description_tooltip": null,
            "disabled": false,
            "layout": "IPY_MODEL_b4fc7fe9483c4d108c2a58894ecbd913",
            "max": 9,
            "min": -9,
            "orientation": "horizontal",
            "readout": true,
            "readout_format": "d",
            "step": 1,
            "style": "IPY_MODEL_464ebd812ca349ffa4498fc05b268b3f",
            "value": 4
          }
        },
        "486948ec472e4038bf16056ae9301331": {
          "model_module": "@jupyter-widgets/output",
          "model_name": "OutputModel",
          "model_module_version": "1.0.0",
          "state": {
            "_dom_classes": [],
            "_model_module": "@jupyter-widgets/output",
            "_model_module_version": "1.0.0",
            "_model_name": "OutputModel",
            "_view_count": null,
            "_view_module": "@jupyter-widgets/output",
            "_view_module_version": "1.0.0",
            "_view_name": "OutputView",
            "layout": "IPY_MODEL_11c9e2d9a4bd4185b24d32eb6380f867",
            "msg_id": "",
            "outputs": [
              {
                "output_type": "display_data",
                "data": {
                  "text/plain": "<Figure size 640x480 with 1 Axes>",
                  "image/png": "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\n"
                },
                "metadata": {}
              }
            ]
          }
        },
        "ae78ca28ea64415192e27f75c6bbdc87": {
          "model_module": "@jupyter-widgets/base",
          "model_name": "LayoutModel",
          "model_module_version": "1.2.0",
          "state": {
            "_model_module": "@jupyter-widgets/base",
            "_model_module_version": "1.2.0",
            "_model_name": "LayoutModel",
            "_view_count": null,
            "_view_module": "@jupyter-widgets/base",
            "_view_module_version": "1.2.0",
            "_view_name": "LayoutView",
            "align_content": null,
            "align_items": null,
            "align_self": null,
            "border": null,
            "bottom": null,
            "display": null,
            "flex": null,
            "flex_flow": null,
            "grid_area": null,
            "grid_auto_columns": null,
            "grid_auto_flow": null,
            "grid_auto_rows": null,
            "grid_column": null,
            "grid_gap": null,
            "grid_row": null,
            "grid_template_areas": null,
            "grid_template_columns": null,
            "grid_template_rows": null,
            "height": null,
            "justify_content": null,
            "justify_items": null,
            "left": null,
            "margin": null,
            "max_height": null,
            "max_width": null,
            "min_height": null,
            "min_width": null,
            "object_fit": null,
            "object_position": null,
            "order": null,
            "overflow": null,
            "overflow_x": null,
            "overflow_y": null,
            "padding": null,
            "right": null,
            "top": null,
            "visibility": null,
            "width": null
          }
        },
        "ff9559ec8f714447ada288fc84beca84": {
          "model_module": "@jupyter-widgets/base",
          "model_name": "LayoutModel",
          "model_module_version": "1.2.0",
          "state": {
            "_model_module": "@jupyter-widgets/base",
            "_model_module_version": "1.2.0",
            "_model_name": "LayoutModel",
            "_view_count": null,
            "_view_module": "@jupyter-widgets/base",
            "_view_module_version": "1.2.0",
            "_view_name": "LayoutView",
            "align_content": null,
            "align_items": null,
            "align_self": null,
            "border": null,
            "bottom": null,
            "display": null,
            "flex": null,
            "flex_flow": null,
            "grid_area": null,
            "grid_auto_columns": null,
            "grid_auto_flow": null,
            "grid_auto_rows": null,
            "grid_column": null,
            "grid_gap": null,
            "grid_row": null,
            "grid_template_areas": null,
            "grid_template_columns": null,
            "grid_template_rows": null,
            "height": null,
            "justify_content": null,
            "justify_items": null,
            "left": null,
            "margin": null,
            "max_height": null,
            "max_width": null,
            "min_height": null,
            "min_width": null,
            "object_fit": null,
            "object_position": null,
            "order": null,
            "overflow": null,
            "overflow_x": null,
            "overflow_y": null,
            "padding": null,
            "right": null,
            "top": null,
            "visibility": null,
            "width": null
          }
        },
        "58141df4c62747c4af7934fdb02a9d7a": {
          "model_module": "@jupyter-widgets/controls",
          "model_name": "SliderStyleModel",
          "model_module_version": "1.5.0",
          "state": {
            "_model_module": "@jupyter-widgets/controls",
            "_model_module_version": "1.5.0",
            "_model_name": "SliderStyleModel",
            "_view_count": null,
            "_view_module": "@jupyter-widgets/base",
            "_view_module_version": "1.2.0",
            "_view_name": "StyleView",
            "description_width": "",
            "handle_color": null
          }
        },
        "dcf4bbea4d7a44c5bfda46992428de66": {
          "model_module": "@jupyter-widgets/base",
          "model_name": "LayoutModel",
          "model_module_version": "1.2.0",
          "state": {
            "_model_module": "@jupyter-widgets/base",
            "_model_module_version": "1.2.0",
            "_model_name": "LayoutModel",
            "_view_count": null,
            "_view_module": "@jupyter-widgets/base",
            "_view_module_version": "1.2.0",
            "_view_name": "LayoutView",
            "align_content": null,
            "align_items": null,
            "align_self": null,
            "border": null,
            "bottom": null,
            "display": null,
            "flex": null,
            "flex_flow": null,
            "grid_area": null,
            "grid_auto_columns": null,
            "grid_auto_flow": null,
            "grid_auto_rows": null,
            "grid_column": null,
            "grid_gap": null,
            "grid_row": null,
            "grid_template_areas": null,
            "grid_template_columns": null,
            "grid_template_rows": null,
            "height": null,
            "justify_content": null,
            "justify_items": null,
            "left": null,
            "margin": null,
            "max_height": null,
            "max_width": null,
            "min_height": null,
            "min_width": null,
            "object_fit": null,
            "object_position": null,
            "order": null,
            "overflow": null,
            "overflow_x": null,
            "overflow_y": null,
            "padding": null,
            "right": null,
            "top": null,
            "visibility": null,
            "width": null
          }
        },
        "6a3beb1e23aa4b68b7c9c3355d44e35e": {
          "model_module": "@jupyter-widgets/controls",
          "model_name": "SliderStyleModel",
          "model_module_version": "1.5.0",
          "state": {
            "_model_module": "@jupyter-widgets/controls",
            "_model_module_version": "1.5.0",
            "_model_name": "SliderStyleModel",
            "_view_count": null,
            "_view_module": "@jupyter-widgets/base",
            "_view_module_version": "1.2.0",
            "_view_name": "StyleView",
            "description_width": "",
            "handle_color": null
          }
        },
        "b4fc7fe9483c4d108c2a58894ecbd913": {
          "model_module": "@jupyter-widgets/base",
          "model_name": "LayoutModel",
          "model_module_version": "1.2.0",
          "state": {
            "_model_module": "@jupyter-widgets/base",
            "_model_module_version": "1.2.0",
            "_model_name": "LayoutModel",
            "_view_count": null,
            "_view_module": "@jupyter-widgets/base",
            "_view_module_version": "1.2.0",
            "_view_name": "LayoutView",
            "align_content": null,
            "align_items": null,
            "align_self": null,
            "border": null,
            "bottom": null,
            "display": null,
            "flex": null,
            "flex_flow": null,
            "grid_area": null,
            "grid_auto_columns": null,
            "grid_auto_flow": null,
            "grid_auto_rows": null,
            "grid_column": null,
            "grid_gap": null,
            "grid_row": null,
            "grid_template_areas": null,
            "grid_template_columns": null,
            "grid_template_rows": null,
            "height": null,
            "justify_content": null,
            "justify_items": null,
            "left": null,
            "margin": null,
            "max_height": null,
            "max_width": null,
            "min_height": null,
            "min_width": null,
            "object_fit": null,
            "object_position": null,
            "order": null,
            "overflow": null,
            "overflow_x": null,
            "overflow_y": null,
            "padding": null,
            "right": null,
            "top": null,
            "visibility": null,
            "width": null
          }
        },
        "464ebd812ca349ffa4498fc05b268b3f": {
          "model_module": "@jupyter-widgets/controls",
          "model_name": "SliderStyleModel",
          "model_module_version": "1.5.0",
          "state": {
            "_model_module": "@jupyter-widgets/controls",
            "_model_module_version": "1.5.0",
            "_model_name": "SliderStyleModel",
            "_view_count": null,
            "_view_module": "@jupyter-widgets/base",
            "_view_module_version": "1.2.0",
            "_view_name": "StyleView",
            "description_width": "",
            "handle_color": null
          }
        },
        "11c9e2d9a4bd4185b24d32eb6380f867": {
          "model_module": "@jupyter-widgets/base",
          "model_name": "LayoutModel",
          "model_module_version": "1.2.0",
          "state": {
            "_model_module": "@jupyter-widgets/base",
            "_model_module_version": "1.2.0",
            "_model_name": "LayoutModel",
            "_view_count": null,
            "_view_module": "@jupyter-widgets/base",
            "_view_module_version": "1.2.0",
            "_view_name": "LayoutView",
            "align_content": null,
            "align_items": null,
            "align_self": null,
            "border": null,
            "bottom": null,
            "display": null,
            "flex": null,
            "flex_flow": null,
            "grid_area": null,
            "grid_auto_columns": null,
            "grid_auto_flow": null,
            "grid_auto_rows": null,
            "grid_column": null,
            "grid_gap": null,
            "grid_row": null,
            "grid_template_areas": null,
            "grid_template_columns": null,
            "grid_template_rows": null,
            "height": null,
            "justify_content": null,
            "justify_items": null,
            "left": null,
            "margin": null,
            "max_height": null,
            "max_width": null,
            "min_height": null,
            "min_width": null,
            "object_fit": null,
            "object_position": null,
            "order": null,
            "overflow": null,
            "overflow_x": null,
            "overflow_y": null,
            "padding": null,
            "right": null,
            "top": null,
            "visibility": null,
            "width": null
          }
        },
        "80cad829af6c45d799fbef976e22153d": {
          "model_module": "@jupyter-widgets/controls",
          "model_name": "VBoxModel",
          "model_module_version": "1.5.0",
          "state": {
            "_dom_classes": [
              "widget-interact"
            ],
            "_model_module": "@jupyter-widgets/controls",
            "_model_module_version": "1.5.0",
            "_model_name": "VBoxModel",
            "_view_count": null,
            "_view_module": "@jupyter-widgets/controls",
            "_view_module_version": "1.5.0",
            "_view_name": "VBoxView",
            "box_style": "",
            "children": [
              "IPY_MODEL_831e90d81d554bb88b5f20a3eb0c7518",
              "IPY_MODEL_c2c50c422a2543fc9592ed815c785dd8",
              "IPY_MODEL_2d109729913f49c7880c9531a4e2d1c5"
            ],
            "layout": "IPY_MODEL_ea22c95ed1ae40c785d27c667ea53c4f"
          }
        },
        "831e90d81d554bb88b5f20a3eb0c7518": {
          "model_module": "@jupyter-widgets/controls",
          "model_name": "IntSliderModel",
          "model_module_version": "1.5.0",
          "state": {
            "_dom_classes": [],
            "_model_module": "@jupyter-widgets/controls",
            "_model_module_version": "1.5.0",
            "_model_name": "IntSliderModel",
            "_view_count": null,
            "_view_module": "@jupyter-widgets/controls",
            "_view_module_version": "1.5.0",
            "_view_name": "IntSliderView",
            "continuous_update": true,
            "description": "a",
            "description_tooltip": null,
            "disabled": false,
            "layout": "IPY_MODEL_01af528295744389a4f6306147d029fd",
            "max": -1,
            "min": -9,
            "orientation": "horizontal",
            "readout": true,
            "readout_format": "d",
            "step": 1,
            "style": "IPY_MODEL_fdcac63952e6439aa4c12982f4265942",
            "value": -9
          }
        },
        "c2c50c422a2543fc9592ed815c785dd8": {
          "model_module": "@jupyter-widgets/controls",
          "model_name": "IntSliderModel",
          "model_module_version": "1.5.0",
          "state": {
            "_dom_classes": [],
            "_model_module": "@jupyter-widgets/controls",
            "_model_module_version": "1.5.0",
            "_model_name": "IntSliderModel",
            "_view_count": null,
            "_view_module": "@jupyter-widgets/controls",
            "_view_module_version": "1.5.0",
            "_view_name": "IntSliderView",
            "continuous_update": true,
            "description": "b",
            "description_tooltip": null,
            "disabled": false,
            "layout": "IPY_MODEL_8725bacda1f143858dbc96341dc158f1",
            "max": 9,
            "min": 1,
            "orientation": "horizontal",
            "readout": true,
            "readout_format": "d",
            "step": 1,
            "style": "IPY_MODEL_ab73a592652446acb944630f35fce86f",
            "value": 2
          }
        },
        "2d109729913f49c7880c9531a4e2d1c5": {
          "model_module": "@jupyter-widgets/output",
          "model_name": "OutputModel",
          "model_module_version": "1.0.0",
          "state": {
            "_dom_classes": [],
            "_model_module": "@jupyter-widgets/output",
            "_model_module_version": "1.0.0",
            "_model_name": "OutputModel",
            "_view_count": null,
            "_view_module": "@jupyter-widgets/output",
            "_view_module_version": "1.0.0",
            "_view_name": "OutputView",
            "layout": "IPY_MODEL_793d1dc2f082467c92224c74d3b31407",
            "msg_id": "",
            "outputs": [
              {
                "output_type": "display_data",
                "data": {
                  "text/plain": "<Figure size 640x480 with 1 Axes>",
                  "image/png": "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\n"
                },
                "metadata": {}
              }
            ]
          }
        },
        "ea22c95ed1ae40c785d27c667ea53c4f": {
          "model_module": "@jupyter-widgets/base",
          "model_name": "LayoutModel",
          "model_module_version": "1.2.0",
          "state": {
            "_model_module": "@jupyter-widgets/base",
            "_model_module_version": "1.2.0",
            "_model_name": "LayoutModel",
            "_view_count": null,
            "_view_module": "@jupyter-widgets/base",
            "_view_module_version": "1.2.0",
            "_view_name": "LayoutView",
            "align_content": null,
            "align_items": null,
            "align_self": null,
            "border": null,
            "bottom": null,
            "display": null,
            "flex": null,
            "flex_flow": null,
            "grid_area": null,
            "grid_auto_columns": null,
            "grid_auto_flow": null,
            "grid_auto_rows": null,
            "grid_column": null,
            "grid_gap": null,
            "grid_row": null,
            "grid_template_areas": null,
            "grid_template_columns": null,
            "grid_template_rows": null,
            "height": null,
            "justify_content": null,
            "justify_items": null,
            "left": null,
            "margin": null,
            "max_height": null,
            "max_width": null,
            "min_height": null,
            "min_width": null,
            "object_fit": null,
            "object_position": null,
            "order": null,
            "overflow": null,
            "overflow_x": null,
            "overflow_y": null,
            "padding": null,
            "right": null,
            "top": null,
            "visibility": null,
            "width": null
          }
        },
        "01af528295744389a4f6306147d029fd": {
          "model_module": "@jupyter-widgets/base",
          "model_name": "LayoutModel",
          "model_module_version": "1.2.0",
          "state": {
            "_model_module": "@jupyter-widgets/base",
            "_model_module_version": "1.2.0",
            "_model_name": "LayoutModel",
            "_view_count": null,
            "_view_module": "@jupyter-widgets/base",
            "_view_module_version": "1.2.0",
            "_view_name": "LayoutView",
            "align_content": null,
            "align_items": null,
            "align_self": null,
            "border": null,
            "bottom": null,
            "display": null,
            "flex": null,
            "flex_flow": null,
            "grid_area": null,
            "grid_auto_columns": null,
            "grid_auto_flow": null,
            "grid_auto_rows": null,
            "grid_column": null,
            "grid_gap": null,
            "grid_row": null,
            "grid_template_areas": null,
            "grid_template_columns": null,
            "grid_template_rows": null,
            "height": null,
            "justify_content": null,
            "justify_items": null,
            "left": null,
            "margin": null,
            "max_height": null,
            "max_width": null,
            "min_height": null,
            "min_width": null,
            "object_fit": null,
            "object_position": null,
            "order": null,
            "overflow": null,
            "overflow_x": null,
            "overflow_y": null,
            "padding": null,
            "right": null,
            "top": null,
            "visibility": null,
            "width": null
          }
        },
        "fdcac63952e6439aa4c12982f4265942": {
          "model_module": "@jupyter-widgets/controls",
          "model_name": "SliderStyleModel",
          "model_module_version": "1.5.0",
          "state": {
            "_model_module": "@jupyter-widgets/controls",
            "_model_module_version": "1.5.0",
            "_model_name": "SliderStyleModel",
            "_view_count": null,
            "_view_module": "@jupyter-widgets/base",
            "_view_module_version": "1.2.0",
            "_view_name": "StyleView",
            "description_width": "",
            "handle_color": null
          }
        },
        "8725bacda1f143858dbc96341dc158f1": {
          "model_module": "@jupyter-widgets/base",
          "model_name": "LayoutModel",
          "model_module_version": "1.2.0",
          "state": {
            "_model_module": "@jupyter-widgets/base",
            "_model_module_version": "1.2.0",
            "_model_name": "LayoutModel",
            "_view_count": null,
            "_view_module": "@jupyter-widgets/base",
            "_view_module_version": "1.2.0",
            "_view_name": "LayoutView",
            "align_content": null,
            "align_items": null,
            "align_self": null,
            "border": null,
            "bottom": null,
            "display": null,
            "flex": null,
            "flex_flow": null,
            "grid_area": null,
            "grid_auto_columns": null,
            "grid_auto_flow": null,
            "grid_auto_rows": null,
            "grid_column": null,
            "grid_gap": null,
            "grid_row": null,
            "grid_template_areas": null,
            "grid_template_columns": null,
            "grid_template_rows": null,
            "height": null,
            "justify_content": null,
            "justify_items": null,
            "left": null,
            "margin": null,
            "max_height": null,
            "max_width": null,
            "min_height": null,
            "min_width": null,
            "object_fit": null,
            "object_position": null,
            "order": null,
            "overflow": null,
            "overflow_x": null,
            "overflow_y": null,
            "padding": null,
            "right": null,
            "top": null,
            "visibility": null,
            "width": null
          }
        },
        "ab73a592652446acb944630f35fce86f": {
          "model_module": "@jupyter-widgets/controls",
          "model_name": "SliderStyleModel",
          "model_module_version": "1.5.0",
          "state": {
            "_model_module": "@jupyter-widgets/controls",
            "_model_module_version": "1.5.0",
            "_model_name": "SliderStyleModel",
            "_view_count": null,
            "_view_module": "@jupyter-widgets/base",
            "_view_module_version": "1.2.0",
            "_view_name": "StyleView",
            "description_width": "",
            "handle_color": null
          }
        },
        "793d1dc2f082467c92224c74d3b31407": {
          "model_module": "@jupyter-widgets/base",
          "model_name": "LayoutModel",
          "model_module_version": "1.2.0",
          "state": {
            "_model_module": "@jupyter-widgets/base",
            "_model_module_version": "1.2.0",
            "_model_name": "LayoutModel",
            "_view_count": null,
            "_view_module": "@jupyter-widgets/base",
            "_view_module_version": "1.2.0",
            "_view_name": "LayoutView",
            "align_content": null,
            "align_items": null,
            "align_self": null,
            "border": null,
            "bottom": null,
            "display": null,
            "flex": null,
            "flex_flow": null,
            "grid_area": null,
            "grid_auto_columns": null,
            "grid_auto_flow": null,
            "grid_auto_rows": null,
            "grid_column": null,
            "grid_gap": null,
            "grid_row": null,
            "grid_template_areas": null,
            "grid_template_columns": null,
            "grid_template_rows": null,
            "height": null,
            "justify_content": null,
            "justify_items": null,
            "left": null,
            "margin": null,
            "max_height": null,
            "max_width": null,
            "min_height": null,
            "min_width": null,
            "object_fit": null,
            "object_position": null,
            "order": null,
            "overflow": null,
            "overflow_x": null,
            "overflow_y": null,
            "padding": null,
            "right": null,
            "top": null,
            "visibility": null,
            "width": null
          }
        }
      }
    }
  },
  "cells": [
    {
      "cell_type": "markdown",
      "metadata": {
        "id": "view-in-github",
        "colab_type": "text"
      },
      "source": [
        "<a href=\"https://colab.research.google.com/github/shengyao1998/fcc-cap-project4-build-a-financial-calculator/blob/main/fcc_cap_project4_build_a_financial_calculator.ipynb\" target=\"_parent\"><img src=\"https://colab.research.google.com/assets/colab-badge.svg\" alt=\"Open In Colab\"/></a>"
      ]
    },
    {
      "cell_type": "markdown",
      "metadata": {
        "id": "EsfO5Q92tL-6"
      },
      "source": [
        "[![freeCodeCamp](https://cdn.freecodecamp.org/testable-projects-fcc/images/fcc_secondary.svg)](https://freecodecamp.org/)"
      ]
    },
    {
      "cell_type": "markdown",
      "metadata": {
        "id": "57mlyO58UfN0"
      },
      "source": [
        "**Learn Foundational Math 3 by Building a Financial App**<br>\n",
        "Each of these steps will lead you toward the Certification Project. Once you complete a step, click to expand the next step."
      ]
    },
    {
      "cell_type": "markdown",
      "metadata": {
        "id": "szp5flp1fA8-"
      },
      "source": [
        "# &darr; **Do this first** &darr;\n",
        "Copy this notebook to your own account by clicking the `File` button at the top, and then click `Save a copy in Drive`. You will need to be logged in to Google. The file will be in a folder called \"Colab Notebooks\" in your Google Drive."
      ]
    },
    {
      "cell_type": "markdown",
      "source": [
        "# Step 0 - Acquire the Testing Library"
      ],
      "metadata": {
        "id": "KDloBuvnHQTS"
      }
    },
    {
      "cell_type": "markdown",
      "source": [
        "Please run this code to get the library file from FreeCodeCamp. Each step will use this library to test your code. You do not need to edit anything; just run this code cell and wait a few seconds until it tells you to go on to the next step."
      ],
      "metadata": {
        "id": "JiW6TlNezZKS"
      }
    },
    {
      "cell_type": "code",
      "source": [
        "# You may need to run this cell at the beginning of each new session\n",
        "\n",
        "!pip install requests\n",
        "\n",
        "# This will just take a few seconds\n",
        "\n",
        "import requests\n",
        "\n",
        "# Get the library from GitHub\n",
        "url = 'https://raw.githubusercontent.com/edatfreecodecamp/python-math/main/math-code-test-c.py'\n",
        "r = requests.get(url)\n",
        "\n",
        "# Save the library in a local working directory\n",
        "with open('math_code_test_c.py', 'w') as f:\n",
        "    f.write(r.text)\n",
        "\n",
        "# Now you can import the library\n",
        "import math_code_test_c as test\n",
        "\n",
        "# This will tell you if the code works\n",
        "test.step00()"
      ],
      "metadata": {
        "id": "eTlHceacGa1C",
        "colab": {
          "base_uri": "https://localhost:8080/"
        },
        "outputId": "39e026c1-1dcb-46b0-d87e-735f3fe70fb0"
      },
      "execution_count": null,
      "outputs": [
        {
          "output_type": "stream",
          "name": "stdout",
          "text": [
            "Requirement already satisfied: requests in /usr/local/lib/python3.10/dist-packages (2.31.0)\n",
            "Requirement already satisfied: charset-normalizer<4,>=2 in /usr/local/lib/python3.10/dist-packages (from requests) (3.3.2)\n",
            "Requirement already satisfied: idna<4,>=2.5 in /usr/local/lib/python3.10/dist-packages (from requests) (3.6)\n",
            "Requirement already satisfied: urllib3<3,>=1.21.1 in /usr/local/lib/python3.10/dist-packages (from requests) (2.0.7)\n",
            "Requirement already satisfied: certifi>=2017.4.17 in /usr/local/lib/python3.10/dist-packages (from requests) (2023.11.17)\n",
            "Code test passed\n",
            "Go on to the next step\n"
          ]
        }
      ]
    },
    {
      "cell_type": "markdown",
      "metadata": {
        "id": "r1AM-AcqkbyF"
      },
      "source": [
        "# Step 1 - Graphing Inequalities"
      ]
    },
    {
      "cell_type": "markdown",
      "metadata": {
        "id": "K8rdL_OEkd-t"
      },
      "source": [
        "Learn Inequalities by Building Shaded Graphs. Notice how you set up the plot, like you learned in the last certification. Run the following code and you will see that the graph of y <u>></u> 2x is not quite right. Because y is greater, the shading should be above the line. The second two arguments in the `fill_between()` function give a range of y values to shade. Change just that part of the code to make the graph correct. (Hint: Think about the top of the graph.)\n"
      ]
    },
    {
      "cell_type": "code",
      "metadata": {
        "id": "QAVgVP3xUd4J",
        "colab": {
          "base_uri": "https://localhost:8080/"
        },
        "outputId": "80bbb819-c536-45cb-8ac9-999860d0838e"
      },
      "source": [
        "import matplotlib.pyplot as plt\n",
        "import numpy as np\n",
        "\n",
        "xmin = -10\n",
        "xmax = 10\n",
        "ymin = - 10\n",
        "ymax = 10\n",
        "points = 2*(xmax-xmin)\n",
        "x = np.linspace(xmin,xmax,points)\n",
        "\n",
        "fig, ax = plt.subplots()\n",
        "plt.axis([xmin,xmax,ymin,ymax]) # window size\n",
        "plt.plot([xmin,xmax],[0,0],'b') # blue x axis\n",
        "plt.plot([0,0],[ymin,ymax], 'b') # blue y axis\n",
        "\n",
        "plt.title(\"y > 2x\")\n",
        "\n",
        "y1 = 2*x\n",
        "plt.plot(x, y1)\n",
        "\n",
        "# Only change code below this line\n",
        "plt.fill_between(x, y1, ymax)\n",
        "\n",
        "plt.show()\n",
        "\n",
        "\n",
        "# Only change code above this line\n",
        "import math_code_test_c as test\n",
        "test.step01(In[-1].split('# Only change code above this line')[0])"
      ],
      "execution_count": null,
      "outputs": [
        {
          "output_type": "display_data",
          "data": {
            "text/plain": [
              "<Figure size 640x480 with 1 Axes>"
            ],
            "image/png": "[encoded data removed]"
          },
          "metadata": {}
        },
        {
          "output_type": "stream",
          "name": "stdout",
          "text": [
            " \n",
            "Code test passed\n",
            "Go on to the next step\n"
          ]
        }
      ]
    },
    {
      "cell_type": "markdown",
      "metadata": {
        "id": "8wXbGsoYkm60"
      },
      "source": [
        "# Step 2 - Graphing inequalities - Part 2"
      ]
    },
    {
      "cell_type": "markdown",
      "metadata": {
        "id": "ehY1G02Dkv7r"
      },
      "source": [
        "The default graph will give you a solid line, but you can change the type of line and the color. As `'b'` is for a solid blue line, `'b--'` will be a dashed blue line and `'r--'` will display a dashed red line. Change the code to graph a dashed red line."
      ]
    },
    {
      "cell_type": "code",
      "metadata": {
        "id": "3Pp_SmUikwgy",
        "colab": {
          "base_uri": "https://localhost:8080/"
        },
        "outputId": "59258240-7bd3-4209-c3b4-3f9c8da61557"
      },
      "source": [
        "import matplotlib.pyplot as plt\n",
        "import numpy as np\n",
        "\n",
        "xmin = -10\n",
        "xmax = 10\n",
        "ymin = - 10\n",
        "ymax = 10\n",
        "points = 2*(xmax-xmin)\n",
        "x = np.linspace(xmin,xmax,points)\n",
        "\n",
        "fig, ax = plt.subplots()\n",
        "plt.axis([xmin,xmax,ymin,ymax]) # window size\n",
        "plt.plot([xmin,xmax],[0,0],'b') # blue x axis\n",
        "plt.plot([0,0],[ymin,ymax], 'b') # blue y axis\n",
        "\n",
        "y1 = 2*x\n",
        "\n",
        "# Only change the next line:\n",
        "plt.plot(x, y1, 'r--')\n",
        "\n",
        "plt.fill_between(x, y1, ymin)\n",
        "plt.show()\n",
        "\n",
        "\n",
        "\n",
        "# Only change code above this line\n",
        "import math_code_test_c as test\n",
        "test.step02(In[-1].split('# Only change code above this line')[0])"
      ],
      "execution_count": null,
      "outputs": [
        {
          "output_type": "display_data",
          "data": {
            "text/plain": [
              "<Figure size 640x480 with 1 Axes>"
            ],
            "image/png": "[encoded data removed]"
          },
          "metadata": {}
        },
        {
          "output_type": "stream",
          "name": "stdout",
          "text": [
            " \n",
            "Code test passed\n",
            "Go on to the next step\n"
          ]
        }
      ]
    },
    {
      "cell_type": "markdown",
      "metadata": {
        "id": "tBxuJtHck2Oo"
      },
      "source": [
        "# Step 3 - Making Art with Graphs"
      ]
    },
    {
      "cell_type": "markdown",
      "metadata": {
        "id": "PTr63nCrlTiM"
      },
      "source": [
        "Now plot four inequalities on the graph, in a pattern. Notice how you only need to define the x values once. In the `fill_between()` function notice a fourth argument, `facecolor=`, to indicate a different color for the shaded area. The color name in single quotes, like 'green' or 'yellow' or any common color name. Run the code to see the pattern, then reverse the order of the colors and run it again."
      ]
    },
    {
      "cell_type": "code",
      "metadata": {
        "id": "Iyoq1h3vlV-a",
        "colab": {
          "base_uri": "https://localhost:8080/",
          "height": 487
        },
        "outputId": "c880d500-8d56-4af1-8592-41f0e8a75c15"
      },
      "source": [
        "import matplotlib.pyplot as plt\n",
        "import numpy as np\n",
        "\n",
        "xmin = -10\n",
        "xmax = 10\n",
        "ymin = - 10\n",
        "ymax = 10\n",
        "points = 2*(xmax-xmin)\n",
        "x = np.linspace(xmin,xmax,points)\n",
        "\n",
        "fig, ax = plt.subplots()\n",
        "plt.axis([xmin,xmax,ymin,ymax]) # window size\n",
        "plt.plot([xmin,xmax],[0,0],'b') # blue x axis\n",
        "plt.plot([0,0],[ymin,ymax], 'b') # blue y axis\n",
        "\n",
        "# Only change the lines indicated below\n",
        "\n",
        "# line 1\n",
        "y1 = x+6\n",
        "plt.plot(x, y1)\n",
        "plt.fill_between(x, y1, 10, facecolor='blue') # change this line\n",
        "\n",
        "# line 2\n",
        "y2 = x+3\n",
        "plt.plot(x, y2)\n",
        "plt.fill_between(x, y2, y1, facecolor='green') # change this line\n",
        "\n",
        "# line 3\n",
        "y3 = x-1\n",
        "plt.plot(x, y3)\n",
        "plt.fill_between(x, y3, y2, facecolor='yellow') # change this line\n",
        "\n",
        "# line 4\n",
        "y4 = x-4\n",
        "plt.plot(x, y4)\n",
        "plt.fill_between(x, y4, y3, facecolor='red') # change this line\n",
        "\n",
        "plt.show()\n",
        "\n",
        "\n",
        "\n",
        "# Only change code above this line\n",
        "import math_code_test_c as test\n",
        "test.step03(In[-1].split('# Only change code above this line')[0])"
      ],
      "execution_count": null,
      "outputs": [
        {
          "output_type": "display_data",
          "data": {
            "text/plain": [
              "<Figure size 640x480 with 1 Axes>"
            ],
            "image/png": "[encoded data removed]"
          },
          "metadata": {}
        },
        {
          "output_type": "stream",
          "name": "stdout",
          "text": [
            " \n",
            "Code test passed\n",
            "Go on to the next step\n"
          ]
        }
      ]
    },
    {
      "cell_type": "markdown",
      "metadata": {
        "id": "s3z_zaNWlet8"
      },
      "source": [
        "# Step 4 - Monomials"
      ]
    },
    {
      "cell_type": "markdown",
      "metadata": {
        "id": "BTOGQIpElet-"
      },
      "source": [
        "A <i>monomial</i> means \"one thing\" or one term. In a math equation, each term has a sign, a coefficient, and a variable to an exponent. Here are some examples: In the term -3x<sup>2</sup> you can see that the sign is negative, the coefficient is 3, the variable is x, the exponent is 2. The term x also has all of these parts: the sign is positive, the coefficient is 1, the variable is x, and the exponent is 1. In the term 5, the sign is positive, the coefficient is 5, the variable is still x, and the exponent is zero (notice that you don't need to write some of these parts, like x<sup>0</sup>). You can use `sympy` to display monomials nicely. Just run the code to see how this looks.  "
      ]
    },
    {
      "cell_type": "code",
      "metadata": {
        "id": "oAPKmzeblet_",
        "colab": {
          "base_uri": "https://localhost:8080/",
          "height": 73
        },
        "outputId": "ae4ac7f0-8625-494c-958b-7d6cb1c0f05c"
      },
      "source": [
        "from sympy import symbols, Eq\n",
        "\n",
        "x = symbols('x')\n",
        "eq1 = Eq(-2*x**3 , -16)\n",
        "display(eq1)\n",
        "\n",
        "\n",
        "# Just run this code\n",
        "import math_code_test_c as test\n",
        "test.step00()"
      ],
      "execution_count": null,
      "outputs": [
        {
          "output_type": "display_data",
          "data": {
            "text/plain": [
              "Eq(-2*x**3, -16)"
            ],
            "text/latex": "$\\displaystyle - 2 x^{3} = -16$"
          },
          "metadata": {}
        },
        {
          "output_type": "stream",
          "name": "stdout",
          "text": [
            "Code test passed\n",
            "Go on to the next step\n"
          ]
        }
      ]
    },
    {
      "cell_type": "markdown",
      "metadata": {
        "id": "lnP9BOpPlhdK"
      },
      "source": [
        "# Step 5 - Polynomials"
      ]
    },
    {
      "cell_type": "markdown",
      "metadata": {
        "id": "ABF6PI7TlhdL"
      },
      "source": [
        "A \"monomial\" is one thing. A \"binomial\" is two things. A \"trinomial\" is three things. A \"polynomial\" is many things. In standard form, `x` is the variable; you put your terms in order from highest exponent to lowest; refer to the coefficients with letters in alphabetical order; and set all of this equal to `y` (because it is a function that you can graph). Example: y = ax<sup>4</sup> + bx<sup>3</sup> + cx<sup>2</sup> + dx + e <br>\n",
        "Write code to prompt for integer input and display a polynomial. Remember to use the `**` for exponents. Parts of this are already done for you."
      ]
    },
    {
      "cell_type": "code",
      "metadata": {
        "id": "USVAJRualhdL",
        "colab": {
          "base_uri": "https://localhost:8080/",
          "height": 178
        },
        "outputId": "5cb09d96-9438-4918-c545-03f780d52b64"
      },
      "source": [
        "from IPython.display import display, Math\n",
        "from sympy import *\n",
        "\n",
        "x,y = symbols('x y')\n",
        "\n",
        "a = int(input(\"Enter coefficient A: \"))\n",
        "b = int(input(\"Enter coefficient B: \"))\n",
        "c = int(input(\"Enter coefficient C: \"))\n",
        "d = int(input(\"Enter coefficient D: \"))\n",
        "# continue this to prompt for variables c and d\n",
        "\n",
        "# change the next line to display the full polynomial\n",
        "y = a*x**3 + b*x**2 + c*x + d\n",
        "\n",
        "print(\"Here is your equation:\")\n",
        "display(Math(\"y = \" + latex(y)))\n",
        "\n",
        "\n",
        "# Only change code above this line\n",
        "import math_code_test_c as test\n",
        "test.step05(In[-1].split('# Only change code above this line')[0])"
      ],
      "execution_count": null,
      "outputs": [
        {
          "output_type": "stream",
          "name": "stdout",
          "text": [
            "Enter coefficient A: 1\n",
            "Enter coefficient B: 2\n",
            "Enter coefficient C: 3\n",
            "Enter coefficient D: 4\n",
            "Here is your equation:\n"
          ]
        },
        {
          "output_type": "display_data",
          "data": {
            "text/plain": [
              "<IPython.core.display.Math object>"
            ],
            "text/latex": "$\\displaystyle y = x^{3} + 2 x^{2} + 3 x + 4$"
          },
          "metadata": {}
        },
        {
          "output_type": "stream",
          "name": "stdout",
          "text": [
            " \n",
            "Code test passed\n",
            "Go on to the next step\n"
          ]
        }
      ]
    },
    {
      "cell_type": "markdown",
      "metadata": {
        "id": "yoavB8H_ljVn"
      },
      "source": [
        "# Step 6 - Interactive Polynomial Graph"
      ]
    },
    {
      "cell_type": "markdown",
      "metadata": {
        "id": "3yk-TKO6ljVo"
      },
      "source": [
        "For this polynomial, y = ax<sup>2</sup> + bx + c, you can move the sliders to adjust the coefficients and see how that affects the graph. Notice how the `f()` function takes two arguments and the `interactive()` function defines two sliders. Run this code and interact with it. Then add the third coefficient (\"c\") by changing three things: the `def` line so that the function takes three arguments, the `plt.plot` line so that it includes \"+ c\", and the `interactive` line to include a third slider."
      ]
    },
    {
      "cell_type": "code",
      "metadata": {
        "id": "sOecWXLOljVo",
        "colab": {
          "base_uri": "https://localhost:8080/",
          "height": 583,
          "referenced_widgets": [
            "b1c429b869d142d1ae447343162f4d7f",
            "f73f0c1a477e44a8836dd37430a3d072",
            "bd5ac6ffd5fd4ee8a09c08db05698031",
            "11e041b01ac7427985c215d373efb9f7",
            "486948ec472e4038bf16056ae9301331",
            "ae78ca28ea64415192e27f75c6bbdc87",
            "ff9559ec8f714447ada288fc84beca84",
            "58141df4c62747c4af7934fdb02a9d7a",
            "dcf4bbea4d7a44c5bfda46992428de66",
            "6a3beb1e23aa4b68b7c9c3355d44e35e",
            "b4fc7fe9483c4d108c2a58894ecbd913",
            "464ebd812ca349ffa4498fc05b268b3f",
            "11c9e2d9a4bd4185b24d32eb6380f867"
          ]
        },
        "outputId": "ae12a870-a72b-4756-b4be-a1ac5752d090"
      },
      "source": [
        "%matplotlib inline\n",
        "from ipywidgets import interactive\n",
        "import matplotlib.pyplot as plt\n",
        "import numpy as np\n",
        "\n",
        "# Change the next line:\n",
        "def f(a, b, c):\n",
        "    plt.axis([-10,10,-10,10]) # window size\n",
        "    plt.plot([-10,10],[0,0],'k') # blue x axis\n",
        "    plt.plot([0,0],[-10,10], 'k') # blue y axis\n",
        "    x = np.linspace(-10, 10, 200)\n",
        "    plt.plot(x, a*x**2+b*x+c) # Change this line\n",
        "    plt.show()\n",
        "\n",
        "# Change the next line:\n",
        "interactive_plot = interactive(f, a=(-9, 9), b=(-9, 9), c=(-9,9))\n",
        "display(interactive_plot)\n",
        "\n",
        "\n",
        "# Only change code above this line\n",
        "import math_code_test_c as test\n",
        "test.step06(In[-1].split('# Only change code above this line')[0])"
      ],
      "execution_count": null,
      "outputs": [
        {
          "output_type": "display_data",
          "data": {
            "text/plain": [
              "interactive(children=(IntSlider(value=0, description='a', max=9, min=-9), IntSlider(value=0, description='b', …"
            ],
            "application/vnd.jupyter.widget-view+json": {
              "version_major": 2,
              "version_minor": 0,
              "model_id": "b1c429b869d142d1ae447343162f4d7f"
            }
          },
          "metadata": {}
        },
        {
          "output_type": "stream",
          "name": "stdout",
          "text": [
            " \n",
            "Code test passed\n",
            "Go on to the next step\n"
          ]
        }
      ]
    },
    {
      "cell_type": "markdown",
      "metadata": {
        "id": "MlRfYVIylkQf"
      },
      "source": [
        "# Step 7 - Exponential Functions"
      ]
    },
    {
      "cell_type": "markdown",
      "metadata": {
        "id": "H16dtXc0lkQg"
      },
      "source": [
        "The general formula for an `exponential function` is $y = a*b^{x}$ (where `a` and `b` are constants and `x` is the variable in the exponent). The shape of exponential graphs, especially when not drawn to scale, are very consistent, so the numerical values are more important to calculate. Things that grow exponentially include populations, investments, and other \"percent increase\" situations. Run this code and use the sliders to see the slight changes. Notice the scale. Then change the slider so that `a` has negative values from -9 to -1 and see how that changes the graph."
      ]
    },
    {
      "cell_type": "code",
      "metadata": {
        "id": "8KIMFu7LlkQg",
        "colab": {
          "base_uri": "https://localhost:8080/",
          "height": 551,
          "referenced_widgets": [
            "80cad829af6c45d799fbef976e22153d",
            "831e90d81d554bb88b5f20a3eb0c7518",
            "c2c50c422a2543fc9592ed815c785dd8",
            "2d109729913f49c7880c9531a4e2d1c5",
            "ea22c95ed1ae40c785d27c667ea53c4f",
            "01af528295744389a4f6306147d029fd",
            "fdcac63952e6439aa4c12982f4265942",
            "8725bacda1f143858dbc96341dc158f1",
            "ab73a592652446acb944630f35fce86f",
            "793d1dc2f082467c92224c74d3b31407"
          ]
        },
        "outputId": "f3c0daac-1c9d-4de3-f39c-6383c7b18362"
      },
      "source": [
        "%matplotlib inline\n",
        "from ipywidgets import interactive\n",
        "import matplotlib.pyplot as plt\n",
        "import numpy as np\n",
        "\n",
        "xmin = -10\n",
        "xmax = 10\n",
        "ymin = -100\n",
        "ymax = 100\n",
        "\n",
        "def f(a, b):\n",
        "    plt.axis([xmin,xmax,ymin,ymax]) # window size\n",
        "    plt.plot([xmin,xmax],[0,0],'k') # x axis\n",
        "    plt.plot([0,0],[ymin,ymax], 'k') # y axis\n",
        "    x = np.linspace(xmin, xmax, 1000)\n",
        "    plt.plot(x, a*b**x)\n",
        "    plt.show()\n",
        "\n",
        "# Only change the next line:\n",
        "interactive_plot = interactive(f, a=(-9, -1), b=(1, 9))\n",
        "display(interactive_plot)\n",
        "\n",
        "\n",
        "# Only change code above this line\n",
        "import math_code_test_c as test\n",
        "test.step07(In[-1].split('# Only change code above this line')[0])"
      ],
      "execution_count": null,
      "outputs": [
        {
          "output_type": "display_data",
          "data": {
            "text/plain": [
              "interactive(children=(IntSlider(value=-5, description='a', max=-1, min=-9), IntSlider(value=5, description='b'…"
            ],
            "application/vnd.jupyter.widget-view+json": {
              "version_major": 2,
              "version_minor": 0,
              "model_id": "80cad829af6c45d799fbef976e22153d"
            }
          },
          "metadata": {}
        },
        {
          "output_type": "stream",
          "name": "stdout",
          "text": [
            " \n",
            "Code test passed\n",
            "Go on to the next step\n"
          ]
        }
      ]
    },
    {
      "cell_type": "markdown",
      "metadata": {
        "id": "NGH1FcttllvS"
      },
      "source": [
        "# Step 8 - Percent Increase"
      ]
    },
    {
      "cell_type": "markdown",
      "metadata": {
        "id": "KLKYiioGllvT"
      },
      "source": [
        "One formula for calculating a percent increase is <b>A = P(1 + r)<sup>t</sup></b> where `A` would be the `y` value on a graph and `t` would be the `x` value. `A` is the <i>annuity</i>, which is the amount you have at the end. `P` is the <i>principle</i>, which is the amount you have at the beginning. `R` (usually not capitalized) is the <i>rate</i>, a percent converted to a decimal. The exponent `t` represents <i>time</i>, usually in years. The code already prompts for `P`, `r` and `t`, so use those variables to calculate the annuity value."
      ]
    },
    {
      "cell_type": "code",
      "metadata": {
        "id": "Vkp6zmxIllvT",
        "colab": {
          "base_uri": "https://localhost:8080/"
        },
        "outputId": "25c2650e-0bab-4ba3-8103-8582a5cc9e28"
      },
      "source": [
        "p = float(input(\"Starting amount = \"))\n",
        "r = float(input(\"Enter the percentage rate, converted to a decimal: \"))\n",
        "t = float(input(\"How many years will this investment grow? \"))\n",
        "\n",
        "# Change the next line to calculate the annuity\n",
        "a = p*(1+r)**t\n",
        "\n",
        "print(\"The annuity is \", a)\n",
        "\n",
        "\n",
        "# Only change code above this line\n",
        "import math_code_test_c as test\n",
        "test.step08(In[-1].split('# Only change code above this line')[0])"
      ],
      "execution_count": null,
      "outputs": [
        {
          "output_type": "stream",
          "name": "stdout",
          "text": [
            "Starting amount = 1000\n",
            "Enter the percentage rate, converted to a decimal: 10\n",
            "How many years will this investment grow? 10\n",
            "The annuity is  25937424601000.0\n",
            " \n",
            "Code test passed\n",
            "Go on to the next step\n"
          ]
        }
      ]
    },
    {
      "cell_type": "markdown",
      "metadata": {
        "id": "Sx0kwIdalmmY"
      },
      "source": [
        "# Step 9 - Percent Decrease"
      ]
    },
    {
      "cell_type": "markdown",
      "metadata": {
        "id": "Wx7fXQDKlmmZ"
      },
      "source": [
        "The percent decrease formula is very similar, except you subtract the rate, so the formula is <b>A = P(1 - r)<sup>t</sup></b>. Some things that decrease by a percent include car values, decay of some elements, and sales discounts. Use the existing variables to calculate the final value (`a`)."
      ]
    },
    {
      "cell_type": "code",
      "metadata": {
        "id": "zJmQoa6YlmmZ",
        "colab": {
          "base_uri": "https://localhost:8080/"
        },
        "outputId": "5acd8fa6-1622-44e5-d419-6ee36ed3a454"
      },
      "source": [
        "p = float(input(\"Starting amount = \"))\n",
        "r = float(input(\"Enter the percentage rate, converted to a decimal: \"))\n",
        "t = float(input(\"How many years will this decrease continue? \"))\n",
        "\n",
        "# Change the next line to calculate the final amount\n",
        "a = a = p*(1-r)**t\n",
        "\n",
        "print(\"The final amount is \", a)\n",
        "\n",
        "# Only change code above this line\n",
        "import math_code_test_c as test\n",
        "test.step09(In[-1].split('# Only change code above this line')[0])"
      ],
      "execution_count": null,
      "outputs": [
        {
          "output_type": "stream",
          "name": "stdout",
          "text": [
            "Starting amount = 1000\n",
            "Enter the percentage rate, converted to a decimal: 3\n",
            "How many years will this decrease continue? 3\n",
            "The final amount is  -8000.0\n",
            " \n",
            "Code test passed\n",
            "Go on to the next step\n"
          ]
        }
      ]
    },
    {
      "cell_type": "markdown",
      "source": [
        "#Step 10 - Compound Interest"
      ],
      "metadata": {
        "id": "S-DVSzwDvKvE"
      }
    },
    {
      "cell_type": "markdown",
      "source": [
        "When you use percent increase formulas for money in the bank, it's called <i>compound interest</i>. The amount of money you earn beyond the original principle is the interest. When the bank calculates the interest and adds it to the principle, that process is called <i>compounding</i> and it can happen any number of times per year. The formula is <b> A = P(1 + $\\frac{r}{n}$)<sup>nt</sup></b> where <i>n</i> is the number of times the bank compounds the money per year. Notice that if n = 1 then this formula is the same as the formula from an earlier step. Write the code to calculate the annuity (hint: use extra parentheses)."
      ],
      "metadata": {
        "id": "qf181QFOvCgd"
      }
    },
    {
      "cell_type": "code",
      "source": [
        "p = float(input(\"Starting amount: \"))\n",
        "r = float(input(\"Percentage rate, converted to a decimal: \"))\n",
        "t = float(input(\"Number of years this investment will grow: \"))\n",
        "n = int(input(\"Number of times compounded per year: \"))\n",
        "\n",
        "# Change the next line to calculate the annuity\n",
        "annuity = 0\n",
        "\n",
        "print(\"The annuity is \", annuity)\n",
        "\n",
        "\n",
        "# Only change code above this line\n",
        "import math_code_test_c as test\n",
        "test.step10(In[-1].split('# Only change code above this line')[0])"
      ],
      "metadata": {
        "id": "O0FAXixVvGXh"
      },
      "execution_count": null,
      "outputs": []
    },
    {
      "cell_type": "markdown",
      "metadata": {
        "id": "H6LTAPYplxvi"
      },
      "source": [
        "# Step 11 - Continuous Growth"
      ]
    },
    {
      "cell_type": "markdown",
      "metadata": {
        "id": "5oRPxD6olxvi"
      },
      "source": [
        "In the first formula, A = P(1 + r)<sup>t</sup>, money is compounded annually.<br>\n",
        "In the second formula, A = P(1 + $\\frac{r}{n})^{nt}$, money is compounded `n` times per year.<br>\n",
        "As `n` gets to be a really big number, you get a different formula, A = Pe$^{rt}$, for continuous growth.<br>\n",
        "In this formula, `e` is a constant, about equal to 2.718281828. The following code already prompts for the four variables once. Use those variables to compare the annuity from the three formulas. Notice you need to `import math` to use `math.e` (the best approximation of e)."
      ]
    },
    {
      "cell_type": "code",
      "metadata": {
        "id": "kf3Q0Yg7lxvk"
      },
      "source": [
        "import math\n",
        "\n",
        "p = float(input(\"Principle: \"))\n",
        "r = float(input(\"Rate: \"))\n",
        "t = int(input(\"Time: \"))\n",
        "n = int(input(\"N: \"))\n",
        "\n",
        "# Only change the following three formulas:\n",
        "a_annual = 0\n",
        "a_n_times = 0\n",
        "a_continuous = 0 # use math.e in this formula\n",
        "\n",
        "# Only change the code above this line\n",
        "\n",
        "print(\"Compounded annually, anuity = \", a_annual)\n",
        "print(\"Compounded \", n, \"times per year, anuity = \", a_n_times)\n",
        "print(\"Compounded continuously, anuity = \", a_continuous)\n",
        "\n",
        "\n",
        "# Only change code above this line\n",
        "import math_code_test_c as test\n",
        "test.step11(In[-1].split('# Only change code above this line')[0])"
      ],
      "execution_count": null,
      "outputs": []
    },
    {
      "cell_type": "markdown",
      "metadata": {
        "id": "iaEBltZXln-Q"
      },
      "source": [
        "# Step 12 - Investments"
      ]
    },
    {
      "cell_type": "markdown",
      "source": [
        "If you have an investment where you contrubute money every month and the value also increases by a consistent percentage, you can create a loop to calculate the accumulated value. In each iteration, use the <i>simple interest</i> formula: interest = principle * rate * time. (Hint: for one month, t = $\\frac{1}{12}$ or you can just divide by 12.)"
      ],
      "metadata": {
        "id": "JTQ9uZw3UeGT"
      }
    },
    {
      "cell_type": "code",
      "metadata": {
        "id": "t7sRzH5Oln-R"
      },
      "source": [
        "p = float(input(\"Starting amount: \"))\n",
        "r = float(input(\"Annual percentage rate: \"))\n",
        "t = int(input(\"Number of years: \"))\n",
        "monthly = float(input(\"Monthly contribution: \"))\n",
        "\n",
        "# Hint: keep updating this annuity variable in the loop\n",
        "annuity = p\n",
        "\n",
        "# Each iteration of the loop represents one month\n",
        "for a in range(12*t):\n",
        "    annuity = annuity + monthly\n",
        "    # Change the next line to calculate the interest\n",
        "    interest = annuity * r / 12\n",
        "    annuity = annuity + interest\n",
        "\n",
        "# Keep this line:\n",
        "print(\"Annuity = \", annuity)\n",
        "\n",
        "\n",
        "# Only change code above this line\n",
        "import math_code_test_c as test\n",
        "test.step12(p,r,t,monthly,annuity)"
      ],
      "execution_count": null,
      "outputs": []
    },
    {
      "cell_type": "markdown",
      "metadata": {
        "id": "l5GwlqRdlpEu"
      },
      "source": [
        "# Step 13 - Mortgage Payments"
      ]
    },
    {
      "cell_type": "markdown",
      "metadata": {
        "id": "50OH4hj8lpEv"
      },
      "source": [
        "When borrowing a large amount of money over a long period of time, the formula to calculate monthly payments gets complicated. Here it is:<br>\n",
        " monthly payment = P$\\frac{\\frac{r}{12}(1 + \\frac{r}{12})^{12t}}{(1 + \\frac{r}{12})^{12t} - 1}$ where, as usual, `P` is the principle, `r` is the annual interest rate (as a decimal), and  `t` is the time in years. Write the code to prompt for these variables and calculate the monthly payment. Hint: Use other variables and do this in steps."
      ]
    },
    {
      "cell_type": "code",
      "metadata": {
        "id": "E5X8_WbnlpEv",
        "colab": {
          "base_uri": "https://localhost:8080/"
        },
        "outputId": "73c4e25c-254c-4d4f-c88e-2018346849c3"
      },
      "source": [
        "p = float(input(\"Amount borrowed: \"))\n",
        "r = float(input(\"Annual percentage rate: \"))\n",
        "t = float(input(\"Number of years: \"))\n",
        "\n",
        "# Write your code here and change the pmt variable\n",
        "mult = 1+(r/12)\n",
        "exp = 12*t\n",
        "top = r/12*(mult**exp)\n",
        "bot = (mult**exp)-1\n",
        "pmt = top/bot\n",
        "\n",
        "print(\"Monthly payment = $\", pmt)\n",
        "\n",
        "\n",
        "# Only change code above this line\n",
        "import math_code_test_c as test\n",
        "test.step13(p,r,t,pmt)"
      ],
      "execution_count": null,
      "outputs": [
        {
          "output_type": "stream",
          "name": "stdout",
          "text": [
            "Amount borrowed: 1\n",
            "Annual percentage rate: 2\n",
            "Number of years: 3\n",
            "Monthly payment = $ 0.16731748067162305\n",
            " \n",
            "Code test passed\n",
            "Go on to the next step\n"
          ]
        }
      ]
    },
    {
      "cell_type": "markdown",
      "metadata": {
        "id": "8vdTo36Pl0yv"
      },
      "source": [
        "# Step 14 - Exponents and Logarithms"
      ]
    },
    {
      "cell_type": "markdown",
      "metadata": {
        "id": "gyMju8CVl0yw"
      },
      "source": [
        "Exponential functions and logarithmic functions are inverses of each other. Here is an example: <b>2<sup>4</sup> = 16</b> and <b>log<sub>2</sub>16 = 4</b>. Both have the same information rearranged in different ways. If you had 2<sup>4</sup> = x you would be able to do that easily, but if you had 2<sup>x</sup> = 16 it would be more difficult. You could write that last equation as a logarithm: log<sub>2</sub>16 = x. In Python, you would write this as `math.log(16,2)`. In both cases, you would read it as \"the log, base 2, of 16\" and the answer would be an exponent. The logarithm is especially useful when the exponent is not a nice integer. Write code to prompt for the base and the result, then use logarithms to calculate the exponent."
      ]
    },
    {
      "cell_type": "code",
      "metadata": {
        "id": "ehtA_ATbl0yw",
        "colab": {
          "base_uri": "https://localhost:8080/"
        },
        "outputId": "8c00b05b-6a8c-444f-f144-c82bbb8ad376"
      },
      "source": [
        "import math\n",
        "\n",
        "base = float(input(\"base: \"))\n",
        "result = float(input(\"result: \"))\n",
        "\n",
        "# Just change the next line:\n",
        "exp = math.log(result, base)\n",
        "\n",
        "print(\"exponent = \", exp)\n",
        "\n",
        "\n",
        "# Only change code above this line\n",
        "import math_code_test_c as test\n",
        "test.step14(In[-1].split('# Only change code above this line')[0])"
      ],
      "execution_count": null,
      "outputs": [
        {
          "output_type": "stream",
          "name": "stdout",
          "text": [
            "base: 2\n",
            "result: 10\n",
            "exponent =  3.3219280948873626\n",
            " \n",
            "Code test passed\n",
            "Go on to the next step\n"
          ]
        }
      ]
    },
    {
      "cell_type": "markdown",
      "metadata": {
        "id": "U_7bv7aG4UJe"
      },
      "source": [
        "# Step 15 - Natural Logs"
      ]
    },
    {
      "cell_type": "markdown",
      "metadata": {
        "id": "uKjifZw04UJe"
      },
      "source": [
        "If you know the rate, how long will it take for something to double?\n",
        "Start with the continuous growth formula:<br>\n",
        "A = Pe<sup>rt</sup><br>\n",
        "If annuity is two times the principle, divide both sides by P\n",
        "and get this:<br>\n",
        "2 = e<sup>rt</sup><br>\n",
        "Because of the base <i>e</i>, take the natural log of both sides and get this:<br>\n",
        "ln(2) = rt<br>\n",
        "Then divide by r to solve for t or divide by t to solve for r. In Python, use `math.log()` with one argument and no base to calculate natural log (which is a logarithm with base e). So the natural log of 2 is `math.log(2)`. Just run the code to see this example."
      ]
    },
    {
      "cell_type": "code",
      "metadata": {
        "id": "dM3RxByK4UJe",
        "colab": {
          "base_uri": "https://localhost:8080/"
        },
        "outputId": "92f7c945-a1e6-4a05-8b56-702b041d53c2"
      },
      "source": [
        "import math\n",
        "\n",
        "r = float(input(\"Enter the annual rate as a decimal: \\n\"))\n",
        "t = math.log(2)/r\n",
        "print(\"Your money will double in \", t, \" years\")\n",
        "\n",
        "\n",
        "# Just run this code\n",
        "import math_code_test_c as test\n",
        "test.step00()"
      ],
      "execution_count": null,
      "outputs": [
        {
          "output_type": "stream",
          "name": "stdout",
          "text": [
            "Enter the annual rate as a decimal: \n",
            "1.2\n",
            "Your money will double in  0.5776226504666211  years\n",
            "Code test passed\n",
            "Go on to the next step\n"
          ]
        }
      ]
    },
    {
      "cell_type": "markdown",
      "metadata": {
        "id": "B7DOz9nh4XAb"
      },
      "source": [
        "# Step 16 - Common Logs"
      ]
    },
    {
      "cell_type": "markdown",
      "metadata": {
        "id": "MD3dH5yF4XAb"
      },
      "source": [
        "The <i>common log</i> is base 10, because that is our number system. Run this code a few times to see how the exponents relate to moving the decimal point to get the resulting number. Notice the floor function. Then take out the floor function to see the exact logarithm."
      ]
    },
    {
      "cell_type": "code",
      "metadata": {
        "id": "n390hG0GcEXI",
        "colab": {
          "base_uri": "https://localhost:8080/"
        },
        "outputId": "5a46f7d6-d1cc-4699-ecb0-6f6a26b6da1b"
      },
      "source": [
        "import math\n",
        "\n",
        "n = input('Enter a number with several digits or several decimal places: ')\n",
        "n = float(n)\n",
        "\n",
        "\n",
        "# Rund the code then change the next line:\n",
        "exp = math.log(n, 10)\n",
        "\n",
        "# This avoids a weird Python quirk:\n",
        "if n==1000:\n",
        "    exp = 3;\n",
        "\n",
        "print(\"exponent = \", exp)\n",
        "\n",
        "\n",
        "# Only change code above this line\n",
        "import math_code_test_c as test\n",
        "test.step16(In[-1].split('# Only change code above this line')[0])"
      ],
      "execution_count": null,
      "outputs": [
        {
          "output_type": "stream",
          "name": "stdout",
          "text": [
            "Enter a number with several digits or several decimal places: 12345\n",
            "exponent =  4.091491094267951\n",
            " \n",
            "Code test passed\n",
            "Go on to the next step\n"
          ]
        }
      ]
    },
    {
      "cell_type": "markdown",
      "metadata": {
        "id": "cqvLtj7t4VMN"
      },
      "source": [
        "# Step 17 - Scientific Notation"
      ]
    },
    {
      "cell_type": "markdown",
      "metadata": {
        "id": "-Uh4YmRt4VMN"
      },
      "source": [
        "<i>Scientific Notation</i> is a way of writing very large or very small numbers without all of the zeros or decimal places. For example, 45,000,000 could be written as 4.5 x 10<sup>7</sup> in scientific notation and 0.00000045 could be written as 4.5 x 10<sup>-7</sup>. The notation requires base 10, so it will always use the structure <b>n $*$ 10<sup>x</sup></b> where n is one digit then the decimal point. Change the code below to print each number in scientific notation. Determine the value of each variable by counting (not writing code). You will automate this process in the next step."
      ]
    },
    {
      "cell_type": "code",
      "metadata": {
        "id": "UyPF6dKz4VMO",
        "colab": {
          "base_uri": "https://localhost:8080/"
        },
        "outputId": "59df5081-3230-485f-c91d-e3db75a4a49a"
      },
      "source": [
        "a = 156000000000\n",
        "b = 0.000000000413\n",
        "\n",
        "# Change the code below this line\n",
        "\n",
        "a1 = 1.56\n",
        "a2 = 11\n",
        "b1 = 4.13\n",
        "b2 = -10\n",
        "\n",
        "print(a, \" = \", a1, \"* 10^\", a2)\n",
        "\n",
        "print(b, \" = \", b1, \"* 10^\", b2)\n",
        "\n",
        "\n",
        "# Only change code above this line\n",
        "import math_code_test_c as test\n",
        "test.step17(b1,b2)"
      ],
      "execution_count": null,
      "outputs": [
        {
          "output_type": "stream",
          "name": "stdout",
          "text": [
            "156000000000  =  1.56 * 10^ 11\n",
            "4.13e-10  =  4.13 * 10^ -10\n",
            " \n",
            "Code test passed\n",
            "Go on to the next step\n"
          ]
        }
      ]
    },
    {
      "cell_type": "markdown",
      "metadata": {
        "id": "GsLj1NhZl1ya"
      },
      "source": [
        "#Step 18 - Logs and Scientific Notation"
      ]
    },
    {
      "cell_type": "markdown",
      "metadata": {
        "id": "uhWbIGVml1yb"
      },
      "source": [
        "Writing code for scientific notation, you will make use of logarithms with base 10. Remember that scientific notation is in the form n $*$ 10<sup>x</sup> where `n` is one digit and then a decimal. To convert a number to scientific notation, take the log of the number and use the `floor()` function to get the expoenent (just as you did in a previous step). Divide the original number by 10 to that exponent and you get `n` (hint: dividing by 10<sup>x</sup> is the same as multiplying by 10<sup>-x</sup>). Rounding is usually necessary. Write the code to convert numbers to scientific notation."
      ]
    },
    {
      "cell_type": "code",
      "metadata": {
        "id": "y8PXrFCYl1yb",
        "colab": {
          "base_uri": "https://localhost:8080/"
        },
        "outputId": "dfadcfdb-d527-4a3d-a7e3-a4078bfa6f56"
      },
      "source": [
        "import math\n",
        "\n",
        "a = .00000000000234\n",
        "b = 12300000000000\n",
        "\n",
        "# Use these three lines as a model\n",
        "x1 = math.floor(math.log(a,10))\n",
        "n1 = round(a*10**(-x1),2)\n",
        "print(\"a = \", n1, \"* 10^\", x1)\n",
        "\n",
        "# Change the next two lines to match the model\n",
        "x2 = math.floor(math.log(b,10))\n",
        "n2 = round(b*10**(-x2),2)\n",
        "print(\"b = \", n2, \"* 10^\", x2)\n",
        "\n",
        "\n",
        "\n",
        "# Only change code above this line\n",
        "import math_code_test_c as test\n",
        "test.step18(In[-1].split('# Only change code above this line')[0])"
      ],
      "execution_count": null,
      "outputs": [
        {
          "output_type": "stream",
          "name": "stdout",
          "text": [
            "a =  2.34 * 10^ -12\n",
            "b =  1.23 * 10^ 13\n",
            " \n",
            "Code test passed\n",
            "Go on to the next step\n"
          ]
        }
      ]
    },
    {
      "cell_type": "markdown",
      "metadata": {
        "id": "d7Lc9KfMYU8Y"
      },
      "source": [
        "# Step 19 - Scientific Notation Conversion"
      ]
    },
    {
      "cell_type": "markdown",
      "metadata": {
        "id": "21gdVKfeYc5R"
      },
      "source": [
        "Now ask for a number as input, and write the code to convert that number into scientific notation. You can re-use code you used in the previous step, using `n` and `x` as variables to print n * 10^x."
      ]
    },
    {
      "cell_type": "code",
      "metadata": {
        "id": "VkOkpmrP4XAb",
        "colab": {
          "base_uri": "https://localhost:8080/"
        },
        "outputId": "20991178-67a5-4855-f654-f74790c99c39"
      },
      "source": [
        "import math\n",
        "\n",
        "a = float(input('Enter a number to convert to scientific notation: '))\n",
        "\n",
        "# write your code here\n",
        "x = math.floor(math.log(a,10))\n",
        "n = round(a*10**(-x),2)\n",
        "print(\"a = \", n, \"* 10^\", x)\n",
        "\n",
        "# Only change code above this line\n",
        "import math_code_test_c as test\n",
        "test.step19(In[-1].split('# Only change code above this line')[0])"
      ],
      "execution_count": null,
      "outputs": [
        {
          "output_type": "stream",
          "name": "stdout",
          "text": [
            "Enter a number to convert to scientific notation: 0.0004\n",
            "a =  4.0 * 10^ -4\n",
            " \n",
            "Code test passed\n",
            "Go on to the next step\n"
          ]
        }
      ]
    },
    {
      "cell_type": "markdown",
      "metadata": {
        "id": "VkD30ljxlyw9"
      },
      "source": [
        "# Step 20 - Graphing Exponents and Logs"
      ]
    },
    {
      "cell_type": "markdown",
      "metadata": {
        "id": "A7YL0fIdlyw-"
      },
      "source": [
        "When not writing code, the <i>natural log</i> is written as \"ln\" and it means a logarithm with base e. Like any pair of inverse functions, the line y = e<sup>x</sup> and the line y = ln(x) are mirrored over the line y = x.  Because of the `np.linspace()` function in this code, `np.log()` works, but `math.log()` does not work here. Both log() functions in Python use e as the base by default. When using the `numpy` library, use `np.log10()` for base 10, `np.log2()` for base 2, etc. Because log functions can only have positive x values, the np.linspace() function will define a positive range for the log() function. Run this code, then change the blue line function to graph y = 2<sup>x</sup> and change the green line function to graph y = log<sub>2</sub>x and notice the similarities between the graphs."
      ]
    },
    {
      "cell_type": "code",
      "metadata": {
        "id": "fJiDmoW1lyw_",
        "colab": {
          "base_uri": "https://localhost:8080/",
          "height": 487
        },
        "outputId": "1bf2f77a-4a77-4e22-efe5-ebb3e6b1cfdb"
      },
      "source": [
        "import matplotlib.pyplot as plt\n",
        "import numpy as np\n",
        "import math\n",
        "\n",
        "xmin = -10\n",
        "xmax = 10\n",
        "ymin = -10\n",
        "ymax = 10\n",
        "plt.axis([xmin,xmax,ymin,ymax]) # window size\n",
        "plt.plot([xmin,xmax],[0,0],'k') # x axis\n",
        "plt.plot([0,0],[ymin,ymax], 'k') # y axis\n",
        "\n",
        "# Same x values for two lines\n",
        "x1 = np.linspace(xmin, xmax, 1000)\n",
        "\n",
        "# Blue line for y = e^x\n",
        "plt.plot(x1, 2**x1, 'b')  # Change this line\n",
        "\n",
        "# Red line for y = x\n",
        "plt.plot(x1, x1, 'r')\n",
        "\n",
        "# Different x values for y = log(x) because x > 0\n",
        "x2 = np.linspace(.001, xmax, 500)\n",
        "\n",
        "# Green line for y = log(x)\n",
        "plt.plot(x2, np.log2(x2), 'g')  # Change this line\n",
        "\n",
        "plt.show()\n",
        "\n",
        "\n",
        "# Only change code above this line\n",
        "import math_code_test_c as test\n",
        "test.step20(In[-1].split('# Only change code above this line')[0])"
      ],
      "execution_count": null,
      "outputs": [
        {
          "output_type": "display_data",
          "data": {
            "text/plain": [
              "<Figure size 640x480 with 1 Axes>"
            ],
            "image/png": "[encoded data removed]"
          },
          "metadata": {}
        },
        {
          "output_type": "stream",
          "name": "stdout",
          "text": [
            " \n",
            "Code test passed\n",
            "Go on to the next step\n"
          ]
        }
      ]
    },
    {
      "cell_type": "markdown",
      "metadata": {
        "id": "bJzxcKIfz8Qt"
      },
      "source": [
        "# Step 21 - Log Application - pH Scale"
      ]
    },
    {
      "cell_type": "markdown",
      "metadata": {
        "id": "pfF3voqSz8Q9"
      },
      "source": [
        "The pH scale, for measuring acids and bases, is a logarithmic scale. The negative log of the hydrogen concentration is the pH. Example: if the hydrogen concentration is .007 then that would be 7 * 10<sup>-3</sup> and therefore a pH of 3. Write the code to prompt for hydrogen concentration and then print the pH. Hint: the <i>ceiling</i> function (`math.ceil()`) works better than rounding here."
      ]
    },
    {
      "cell_type": "code",
      "metadata": {
        "id": "tepkvSubz8Q9",
        "colab": {
          "base_uri": "https://localhost:8080/"
        },
        "outputId": "606cba06-43a6-432f-9183-4c9e32e6b777"
      },
      "source": [
        "import math\n",
        "\n",
        "decimal = float(input(\"Enter the hydrogen concentration as a decimal number: \"))\n",
        "\n",
        "# Write your code here\n",
        "h = math.ceil(-math.log(decimal, 10))\n",
        "\n",
        "print(\"pH = \", h)\n",
        "\n",
        "# Only change code above this line\n",
        "import math_code_test_c as test\n",
        "test.step21(In[-1].split('# Only change code above this line')[0])"
      ],
      "execution_count": null,
      "outputs": [
        {
          "output_type": "stream",
          "name": "stdout",
          "text": [
            "Enter the hydrogen concentration as a decimal number: 0.007\n",
            "pH =  3\n",
            " \n",
            "Code test passed\n"
          ]
        }
      ]
    },
    {
      "cell_type": "markdown",
      "source": [
        "# Step 22 - Functions for the Project"
      ],
      "metadata": {
        "id": "8iWUAktvPLYp"
      }
    },
    {
      "cell_type": "markdown",
      "source": [
        "Define a function for calculating mortgage payments and a function for calculating investment balance. Use code you wrote in earlier steps. Each function should prompt for input and print the output."
      ],
      "metadata": {
        "id": "a9gRwbr-PGPC"
      }
    },
    {
      "cell_type": "code",
      "source": [
        "# Write your code here\n",
        "\n",
        "\n",
        "# This step does not have a test"
      ],
      "metadata": {
        "id": "neFvvCOzO_WB"
      },
      "execution_count": null,
      "outputs": []
    },
    {
      "cell_type": "markdown",
      "source": [
        "# Step 23 - More Functions"
      ],
      "metadata": {
        "id": "rzaQj8dEOfzb"
      }
    },
    {
      "cell_type": "markdown",
      "source": [
        "Create a function that produces an interactive polynomial graph (with sliders). Use code from an earlier step."
      ],
      "metadata": {
        "id": "C6OV8KzQOTS_"
      }
    },
    {
      "cell_type": "code",
      "source": [
        "# Write your code here\n",
        "\n",
        "\n",
        "# This step does not have a test"
      ],
      "metadata": {
        "id": "6cGh0vE1OYyC"
      },
      "execution_count": null,
      "outputs": []
    },
    {
      "cell_type": "markdown",
      "source": [
        "# Step 24 - New Function"
      ],
      "metadata": {
        "id": "UptjjiCOTSS2"
      }
    },
    {
      "cell_type": "markdown",
      "source": [
        "Create a function to print the time required for money to double, given the rate. Use the continuous growth formula from an earlier step."
      ],
      "metadata": {
        "id": "XKXNbHzGTKAp"
      }
    },
    {
      "cell_type": "code",
      "source": [
        "# Write your code here\n",
        "\n",
        "\n",
        "# This step does not have a test"
      ],
      "metadata": {
        "id": "kWs_IpxrTYyl"
      },
      "execution_count": null,
      "outputs": []
    },
    {
      "cell_type": "markdown",
      "source": [
        "# Step 25 - Certification Project 3"
      ],
      "metadata": {
        "id": "CRa5i8s3UCuL"
      }
    },
    {
      "cell_type": "markdown",
      "source": [
        "Build a financial app that calculates all of the following:<br>\n",
        "<ul>\n",
        "<li>Mortgage payment - given principle, rate, time</li>\n",
        "<li>Retirement account balance at time of retirement</li>\n",
        "<li>Time required for money to double - given the rate</li>\n",
        "<li>Rate of growth - given starting value, time, and ending value</li>\n",
        "</ul>"
      ],
      "metadata": {
        "id": "nngVpvqeT4U7"
      }
    },
    {
      "cell_type": "code",
      "source": [
        "def mortgage():\n",
        "  p = float(input(\"Please input the loan amount :\"))\n",
        "  a = float(input(\"Please input the annual rate :\"))\n",
        "  t = float(input(\"Please input the tenure year :\"))\n",
        "\n",
        "  mult = 1+(a/12)\n",
        "  exp = 12*t\n",
        "  top = (a/12)*(mult**exp)\n",
        "  bot = (mult**exp)-1\n",
        "  pmt = top/bot\n",
        "\n",
        "  print(\"Monthly payment = $\", pmt)\n",
        "\n",
        "\n",
        "def retirement():\n",
        "  p = float(input(\"Starting amount = \"))\n",
        "  r = float(input(\"Enter the percentage rate, converted to a decimal: \"))\n",
        "  t = float(input(\"How many years will this investment grow? \"))\n",
        "\n",
        "  # Change the next line to calculate the annuity\n",
        "  a = p*(1+r)**t\n",
        "\n",
        "  print(\"The annuity is \", a)\n",
        "\n",
        "def time_to_double():\n",
        "  r = float(input(\"Enter the annual rate as a decimal: \\n\"))\n",
        "  t = math.log(2)/r\n",
        "  print(\"Your money will double in \", t, \" years\")\n",
        "\n",
        "\n",
        "def rate_of_growth():\n",
        "  p = float(input(\"Starting amount = \"))\n",
        "  a = float(input(\"Ending amount = \"))\n",
        "  t = float(input(\"How many years will this investment grow? \"))\n",
        "\n",
        "  # Change the next line to calculate the annuity\n",
        "  r = ((a**(1/t))/p) - 1\n",
        "\n",
        "  print(\"The growth rate in decimal is \", r)\n",
        "\n",
        "\n",
        "def menu():\n",
        "  print(\"----------Menu----------\")\n",
        "  print(\"------------------------\")\n",
        "  print(\" 1. Mortgage\")\n",
        "  print(\" 2. Retirement\")\n",
        "  print(\" 3. Time to Double\")\n",
        "  print(\" 4. Rate of Growth\")\n",
        "  print(\"------------------------\")\n",
        "  ops = int(input('Please choose an operation from Menu: '))\n",
        "  return ops\n",
        "\n",
        "\n",
        "def main():\n",
        "  option = menu()\n",
        "\n",
        "  if option == 1:\n",
        "    mortgage()\n",
        "\n",
        "  if option == 2:\n",
        "    retirement()\n",
        "\n",
        "  if option == 3:\n",
        "    time_to_double()\n",
        "\n",
        "  if option == 4:\n",
        "    rate_of_growth()\n",
        "\n",
        "\n",
        "\n",
        "import numpy as np\n",
        "import matplotlib.pyplot as plt\n",
        "import random\n",
        "import math\n",
        "from sympy import *\n",
        "\n",
        "main()\n",
        "\n"
      ],
      "metadata": {
        "id": "fa2o--pDT-Sd",
        "colab": {
          "base_uri": "https://localhost:8080/"
        },
        "outputId": "17fce089-01ae-4611-9abd-fd5c12e1e09f"
      },
      "execution_count": null,
      "outputs": [
        {
          "output_type": "stream",
          "name": "stdout",
          "text": [
            "----------Menu----------\n",
            "------------------------\n",
            " 1. Mortgage\n",
            " 2. Retirement\n",
            " 3. Time to Double\n",
            " 4. Rate of Growth\n",
            "------------------------\n",
            "Please choose an operation from Menu: 2\n",
            "Starting amount = 1000\n",
            "Enter the percentage rate, converted to a decimal: 0.7\n",
            "How many years will this investment grow? 20\n",
            "The annuity is  40642314.066475704\n"
          ]
        }
      ]
    }
  ]
}